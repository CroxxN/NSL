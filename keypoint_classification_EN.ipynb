{
  "cells": [
    {
      "cell_type": "code",
      "execution_count": 32,
      "metadata": {
        "id": "igMyGnjE9hEp"
      },
      "outputs": [],
      "source": [
        "import csv\n",
        "\n",
        "import numpy as np\n",
        "import tensorflow as tf\n",
        "from sklearn.model_selection import train_test_split\n",
        "\n",
        "RANDOM_SEED = 42"
      ]
    },
    {
      "cell_type": "markdown",
      "metadata": {
        "id": "t2HDvhIu9hEr"
      },
      "source": [
        "# Specify each path"
      ]
    },
    {
      "cell_type": "code",
      "execution_count": 33,
      "metadata": {
        "id": "9NvZP2Zn9hEy"
      },
      "outputs": [],
      "source": [
        "dataset = 'model/keypoint_classifier/keypoint.csv'\n",
        "model_save_path = 'model/keypoint_classifier/keypoint_classifier.hdf5'\n",
        "tflite_save_path = 'model/keypoint_classifier/keypoint_classifier.tflite'"
      ]
    },
    {
      "cell_type": "markdown",
      "metadata": {
        "id": "s5oMH7x19hEz"
      },
      "source": [
        "# Set number of classes"
      ]
    },
    {
      "cell_type": "code",
      "execution_count": 34,
      "metadata": {
        "id": "du4kodXL9hEz"
      },
      "outputs": [],
      "source": [
        "NUM_CLASSES = 38"
      ]
    },
    {
      "cell_type": "markdown",
      "metadata": {
        "id": "XjnL0uso9hEz"
      },
      "source": [
        "# Dataset reading"
      ]
    },
    {
      "cell_type": "code",
      "execution_count": 35,
      "metadata": {
        "id": "QT5ZqtEz9hE0"
      },
      "outputs": [],
      "source": [
        "X_dataset = np.loadtxt(dataset, delimiter=',', dtype='float32', usecols=list(range(1, (21 * 2) + 1)))"
      ]
    },
    {
      "cell_type": "code",
      "execution_count": 36,
      "metadata": {
        "id": "QmoKFsp49hE0"
      },
      "outputs": [],
      "source": [
        "y_dataset = np.loadtxt(dataset, delimiter=',', dtype='int32', usecols=(0))"
      ]
    },
    {
      "cell_type": "code",
      "execution_count": 37,
      "metadata": {
        "id": "xQU7JTZ_9hE0"
      },
      "outputs": [],
      "source": [
        "X_train, X_test, y_train, y_test = train_test_split(X_dataset, y_dataset, train_size=0.75, random_state=RANDOM_SEED)"
      ]
    },
    {
      "cell_type": "markdown",
      "metadata": {
        "id": "mxK_lETT9hE0"
      },
      "source": [
        "# Model building"
      ]
    },
    {
      "cell_type": "code",
      "execution_count": 38,
      "metadata": {
        "id": "vHBmUf1t9hE1"
      },
      "outputs": [],
      "source": [
        "model = tf.keras.models.Sequential([\n",
        "    tf.keras.layers.Input((21 * 2, )),\n",
        "    tf.keras.layers.Dropout(0.1),\n",
        "    tf.keras.layers.Dense(160, activation='relu'),\n",
        "    tf.keras.layers.Dropout(0.2),\n",
        "    tf.keras.layers.Dense(150, activation='relu'),\n",
        "    tf.keras.layers.Dense(NUM_CLASSES, activation='softmax')\n",
        "])"
      ]
    },
    {
      "cell_type": "code",
      "execution_count": 39,
      "metadata": {
        "colab": {
          "base_uri": "https://localhost:8080/"
        },
        "id": "ypqky9tc9hE1",
        "outputId": "5db082bb-30e3-4110-bf63-a1ee777ecd46"
      },
      "outputs": [
        {
          "name": "stdout",
          "output_type": "stream",
          "text": [
            "Model: \"sequential_1\"\n",
            "_________________________________________________________________\n",
            " Layer (type)                Output Shape              Param #   \n",
            "=================================================================\n",
            " dropout_2 (Dropout)         (None, 42)                0         \n",
            "                                                                 \n",
            " dense_3 (Dense)             (None, 160)               6880      \n",
            "                                                                 \n",
            " dropout_3 (Dropout)         (None, 160)               0         \n",
            "                                                                 \n",
            " dense_4 (Dense)             (None, 150)               24150     \n",
            "                                                                 \n",
            " dense_5 (Dense)             (None, 38)                5738      \n",
            "                                                                 \n",
            "=================================================================\n",
            "Total params: 36,768\n",
            "Trainable params: 36,768\n",
            "Non-trainable params: 0\n",
            "_________________________________________________________________\n"
          ]
        }
      ],
      "source": [
        "model.summary()  # tf.keras.utils.plot_model(model, show_shapes=True)"
      ]
    },
    {
      "cell_type": "code",
      "execution_count": 40,
      "metadata": {
        "id": "MbMjOflQ9hE1"
      },
      "outputs": [],
      "source": [
        "# Model checkpoint callback\n",
        "cp_callback = tf.keras.callbacks.ModelCheckpoint(\n",
        "    model_save_path, verbose=1, save_weights_only=False)\n",
        "# Callback for early stopping\n",
        "es_callback = tf.keras.callbacks.EarlyStopping(patience=20, verbose=1)"
      ]
    },
    {
      "cell_type": "code",
      "execution_count": 41,
      "metadata": {
        "id": "c3Dac0M_9hE2"
      },
      "outputs": [],
      "source": [
        "# Model compilation\n",
        "model.compile(\n",
        "    optimizer='adam',\n",
        "    loss='sparse_categorical_crossentropy',\n",
        "    metrics=['accuracy']\n",
        ")"
      ]
    },
    {
      "cell_type": "markdown",
      "metadata": {
        "id": "7XI0j1Iu9hE2"
      },
      "source": [
        "# Model training"
      ]
    },
    {
      "cell_type": "code",
      "execution_count": 42,
      "metadata": {
        "colab": {
          "base_uri": "https://localhost:8080/"
        },
        "id": "WirBl-JE9hE3",
        "outputId": "71b30ca2-8294-4d9d-8aa2-800d90d399de",
        "scrolled": true
      },
      "outputs": [
        {
          "name": "stdout",
          "output_type": "stream",
          "text": [
            "Epoch 1/2000\n",
            "140/147 [===========================>..] - ETA: 0s - loss: 2.6274 - accuracy: 0.2449\n",
            "Epoch 1: saving model to model/keypoint_classifier\\keypoint_classifier.hdf5\n",
            "147/147 [==============================] - 2s 11ms/step - loss: 2.5922 - accuracy: 0.2529 - val_loss: 1.5899 - val_accuracy: 0.6267\n",
            "Epoch 2/2000\n",
            "138/147 [===========================>..] - ETA: 0s - loss: 1.5224 - accuracy: 0.5213\n",
            "Epoch 2: saving model to model/keypoint_classifier\\keypoint_classifier.hdf5\n",
            "147/147 [==============================] - 1s 8ms/step - loss: 1.5066 - accuracy: 0.5262 - val_loss: 0.8846 - val_accuracy: 0.8233\n",
            "Epoch 3/2000\n",
            "146/147 [============================>.] - ETA: 0s - loss: 1.1712 - accuracy: 0.6261\n",
            "Epoch 3: saving model to model/keypoint_classifier\\keypoint_classifier.hdf5\n",
            "147/147 [==============================] - 1s 8ms/step - loss: 1.1707 - accuracy: 0.6262 - val_loss: 0.6489 - val_accuracy: 0.8823\n",
            "Epoch 4/2000\n",
            "143/147 [============================>.] - ETA: 0s - loss: 0.9963 - accuracy: 0.6752\n",
            "Epoch 4: saving model to model/keypoint_classifier\\keypoint_classifier.hdf5\n",
            "147/147 [==============================] - 1s 8ms/step - loss: 0.9948 - accuracy: 0.6759 - val_loss: 0.5118 - val_accuracy: 0.8979\n",
            "Epoch 5/2000\n",
            "140/147 [===========================>..] - ETA: 0s - loss: 0.9084 - accuracy: 0.6982\n",
            "Epoch 5: saving model to model/keypoint_classifier\\keypoint_classifier.hdf5\n",
            "147/147 [==============================] - 1s 8ms/step - loss: 0.9067 - accuracy: 0.6989 - val_loss: 0.4728 - val_accuracy: 0.8998\n",
            "Epoch 6/2000\n",
            "143/147 [============================>.] - ETA: 0s - loss: 0.8295 - accuracy: 0.7273\n",
            "Epoch 6: saving model to model/keypoint_classifier\\keypoint_classifier.hdf5\n",
            "147/147 [==============================] - 1s 9ms/step - loss: 0.8275 - accuracy: 0.7280 - val_loss: 0.4074 - val_accuracy: 0.9196\n",
            "Epoch 7/2000\n",
            "140/147 [===========================>..] - ETA: 0s - loss: 0.7813 - accuracy: 0.7403\n",
            "Epoch 7: saving model to model/keypoint_classifier\\keypoint_classifier.hdf5\n",
            "147/147 [==============================] - 2s 11ms/step - loss: 0.7784 - accuracy: 0.7414 - val_loss: 0.3628 - val_accuracy: 0.9285\n",
            "Epoch 8/2000\n",
            "140/147 [===========================>..] - ETA: 0s - loss: 0.7329 - accuracy: 0.7586\n",
            "Epoch 8: saving model to model/keypoint_classifier\\keypoint_classifier.hdf5\n",
            "147/147 [==============================] - 2s 11ms/step - loss: 0.7310 - accuracy: 0.7593 - val_loss: 0.3460 - val_accuracy: 0.9193\n",
            "Epoch 9/2000\n",
            "147/147 [==============================] - ETA: 0s - loss: 0.6935 - accuracy: 0.7688\n",
            "Epoch 9: saving model to model/keypoint_classifier\\keypoint_classifier.hdf5\n",
            "147/147 [==============================] - 2s 11ms/step - loss: 0.6935 - accuracy: 0.7688 - val_loss: 0.3126 - val_accuracy: 0.9376\n",
            "Epoch 10/2000\n",
            "142/147 [===========================>..] - ETA: 0s - loss: 0.6609 - accuracy: 0.7801\n",
            "Epoch 10: saving model to model/keypoint_classifier\\keypoint_classifier.hdf5\n",
            "147/147 [==============================] - 1s 9ms/step - loss: 0.6595 - accuracy: 0.7798 - val_loss: 0.2825 - val_accuracy: 0.9498\n",
            "Epoch 11/2000\n",
            "146/147 [============================>.] - ETA: 0s - loss: 0.6183 - accuracy: 0.7968\n",
            "Epoch 11: saving model to model/keypoint_classifier\\keypoint_classifier.hdf5\n",
            "147/147 [==============================] - 2s 11ms/step - loss: 0.6203 - accuracy: 0.7963 - val_loss: 0.2732 - val_accuracy: 0.9432\n",
            "Epoch 12/2000\n",
            "145/147 [============================>.] - ETA: 0s - loss: 0.5935 - accuracy: 0.8077\n",
            "Epoch 12: saving model to model/keypoint_classifier\\keypoint_classifier.hdf5\n",
            "147/147 [==============================] - 1s 10ms/step - loss: 0.5940 - accuracy: 0.8075 - val_loss: 0.2490 - val_accuracy: 0.9531\n",
            "Epoch 13/2000\n",
            "145/147 [============================>.] - ETA: 0s - loss: 0.5552 - accuracy: 0.8179\n",
            "Epoch 13: saving model to model/keypoint_classifier\\keypoint_classifier.hdf5\n",
            "147/147 [==============================] - 1s 10ms/step - loss: 0.5548 - accuracy: 0.8184 - val_loss: 0.2436 - val_accuracy: 0.9415\n",
            "Epoch 14/2000\n",
            "146/147 [============================>.] - ETA: 0s - loss: 0.5270 - accuracy: 0.8294\n",
            "Epoch 14: saving model to model/keypoint_classifier\\keypoint_classifier.hdf5\n",
            "147/147 [==============================] - 1s 10ms/step - loss: 0.5269 - accuracy: 0.8294 - val_loss: 0.2307 - val_accuracy: 0.9529\n",
            "Epoch 15/2000\n",
            "142/147 [===========================>..] - ETA: 0s - loss: 0.4938 - accuracy: 0.8370\n",
            "Epoch 15: saving model to model/keypoint_classifier\\keypoint_classifier.hdf5\n",
            "147/147 [==============================] - 1s 10ms/step - loss: 0.4939 - accuracy: 0.8366 - val_loss: 0.2150 - val_accuracy: 0.9598\n",
            "Epoch 16/2000\n",
            "142/147 [===========================>..] - ETA: 0s - loss: 0.4708 - accuracy: 0.8473\n",
            "Epoch 16: saving model to model/keypoint_classifier\\keypoint_classifier.hdf5\n",
            "147/147 [==============================] - 1s 9ms/step - loss: 0.4714 - accuracy: 0.8468 - val_loss: 0.2073 - val_accuracy: 0.9520\n",
            "Epoch 17/2000\n",
            "144/147 [============================>.] - ETA: 0s - loss: 0.4410 - accuracy: 0.8541\n",
            "Epoch 17: saving model to model/keypoint_classifier\\keypoint_classifier.hdf5\n",
            "147/147 [==============================] - 1s 9ms/step - loss: 0.4408 - accuracy: 0.8546 - val_loss: 0.1913 - val_accuracy: 0.9651\n",
            "Epoch 18/2000\n",
            "140/147 [===========================>..] - ETA: 0s - loss: 0.4265 - accuracy: 0.8609\n",
            "Epoch 18: saving model to model/keypoint_classifier\\keypoint_classifier.hdf5\n",
            "147/147 [==============================] - 1s 9ms/step - loss: 0.4272 - accuracy: 0.8607 - val_loss: 0.1889 - val_accuracy: 0.9635\n",
            "Epoch 19/2000\n",
            "144/147 [============================>.] - ETA: 0s - loss: 0.4055 - accuracy: 0.8682\n",
            "Epoch 19: saving model to model/keypoint_classifier\\keypoint_classifier.hdf5\n",
            "147/147 [==============================] - 1s 8ms/step - loss: 0.4046 - accuracy: 0.8686 - val_loss: 0.1760 - val_accuracy: 0.9700\n",
            "Epoch 20/2000\n",
            "138/147 [===========================>..] - ETA: 0s - loss: 0.3878 - accuracy: 0.8773\n",
            "Epoch 20: saving model to model/keypoint_classifier\\keypoint_classifier.hdf5\n",
            "147/147 [==============================] - 1s 9ms/step - loss: 0.3860 - accuracy: 0.8774 - val_loss: 0.1699 - val_accuracy: 0.9675\n",
            "Epoch 21/2000\n",
            "147/147 [==============================] - ETA: 0s - loss: 0.3635 - accuracy: 0.8832\n",
            "Epoch 21: saving model to model/keypoint_classifier\\keypoint_classifier.hdf5\n",
            "147/147 [==============================] - 1s 9ms/step - loss: 0.3635 - accuracy: 0.8832 - val_loss: 0.1704 - val_accuracy: 0.9657\n",
            "Epoch 22/2000\n",
            "145/147 [============================>.] - ETA: 0s - loss: 0.3557 - accuracy: 0.8846\n",
            "Epoch 22: saving model to model/keypoint_classifier\\keypoint_classifier.hdf5\n",
            "147/147 [==============================] - 1s 8ms/step - loss: 0.3559 - accuracy: 0.8847 - val_loss: 0.1636 - val_accuracy: 0.9611\n",
            "Epoch 23/2000\n",
            "146/147 [============================>.] - ETA: 0s - loss: 0.3420 - accuracy: 0.8923\n",
            "Epoch 23: saving model to model/keypoint_classifier\\keypoint_classifier.hdf5\n",
            "147/147 [==============================] - 1s 8ms/step - loss: 0.3419 - accuracy: 0.8922 - val_loss: 0.1523 - val_accuracy: 0.9740\n",
            "Epoch 24/2000\n",
            "145/147 [============================>.] - ETA: 0s - loss: 0.3327 - accuracy: 0.8945\n",
            "Epoch 24: saving model to model/keypoint_classifier\\keypoint_classifier.hdf5\n",
            "147/147 [==============================] - 1s 8ms/step - loss: 0.3325 - accuracy: 0.8946 - val_loss: 0.1526 - val_accuracy: 0.9711\n",
            "Epoch 25/2000\n",
            "139/147 [===========================>..] - ETA: 0s - loss: 0.3102 - accuracy: 0.9000\n",
            "Epoch 25: saving model to model/keypoint_classifier\\keypoint_classifier.hdf5\n",
            "147/147 [==============================] - 1s 7ms/step - loss: 0.3122 - accuracy: 0.8995 - val_loss: 0.1453 - val_accuracy: 0.9700\n",
            "Epoch 26/2000\n",
            "146/147 [============================>.] - ETA: 0s - loss: 0.3010 - accuracy: 0.9016\n",
            "Epoch 26: saving model to model/keypoint_classifier\\keypoint_classifier.hdf5\n",
            "147/147 [==============================] - 1s 8ms/step - loss: 0.3011 - accuracy: 0.9016 - val_loss: 0.1380 - val_accuracy: 0.9691\n",
            "Epoch 27/2000\n",
            "143/147 [============================>.] - ETA: 0s - loss: 0.2961 - accuracy: 0.9054\n",
            "Epoch 27: saving model to model/keypoint_classifier\\keypoint_classifier.hdf5\n",
            "147/147 [==============================] - 1s 8ms/step - loss: 0.2967 - accuracy: 0.9052 - val_loss: 0.1434 - val_accuracy: 0.9706\n",
            "Epoch 28/2000\n",
            "140/147 [===========================>..] - ETA: 0s - loss: 0.2833 - accuracy: 0.9093\n",
            "Epoch 28: saving model to model/keypoint_classifier\\keypoint_classifier.hdf5\n",
            "147/147 [==============================] - 1s 8ms/step - loss: 0.2840 - accuracy: 0.9092 - val_loss: 0.1349 - val_accuracy: 0.9748\n",
            "Epoch 29/2000\n",
            "147/147 [==============================] - ETA: 0s - loss: 0.2809 - accuracy: 0.9130\n",
            "Epoch 29: saving model to model/keypoint_classifier\\keypoint_classifier.hdf5\n",
            "147/147 [==============================] - 1s 8ms/step - loss: 0.2809 - accuracy: 0.9130 - val_loss: 0.1305 - val_accuracy: 0.9769\n",
            "Epoch 30/2000\n",
            "140/147 [===========================>..] - ETA: 0s - loss: 0.2735 - accuracy: 0.9134\n",
            "Epoch 30: saving model to model/keypoint_classifier\\keypoint_classifier.hdf5\n",
            "147/147 [==============================] - 1s 8ms/step - loss: 0.2722 - accuracy: 0.9142 - val_loss: 0.1268 - val_accuracy: 0.9773\n",
            "Epoch 31/2000\n",
            "139/147 [===========================>..] - ETA: 0s - loss: 0.2684 - accuracy: 0.9170\n",
            "Epoch 31: saving model to model/keypoint_classifier\\keypoint_classifier.hdf5\n",
            "147/147 [==============================] - 1s 8ms/step - loss: 0.2683 - accuracy: 0.9171 - val_loss: 0.1327 - val_accuracy: 0.9724\n",
            "Epoch 32/2000\n",
            "139/147 [===========================>..] - ETA: 0s - loss: 0.2550 - accuracy: 0.9196\n",
            "Epoch 32: saving model to model/keypoint_classifier\\keypoint_classifier.hdf5\n",
            "147/147 [==============================] - 1s 9ms/step - loss: 0.2567 - accuracy: 0.9191 - val_loss: 0.1165 - val_accuracy: 0.9777\n",
            "Epoch 33/2000\n",
            "144/147 [============================>.] - ETA: 0s - loss: 0.2507 - accuracy: 0.9220\n",
            "Epoch 33: saving model to model/keypoint_classifier\\keypoint_classifier.hdf5\n",
            "147/147 [==============================] - 1s 9ms/step - loss: 0.2504 - accuracy: 0.9221 - val_loss: 0.1183 - val_accuracy: 0.9775\n",
            "Epoch 34/2000\n",
            "146/147 [============================>.] - ETA: 0s - loss: 0.2460 - accuracy: 0.9242\n",
            "Epoch 34: saving model to model/keypoint_classifier\\keypoint_classifier.hdf5\n",
            "147/147 [==============================] - 1s 9ms/step - loss: 0.2458 - accuracy: 0.9242 - val_loss: 0.1118 - val_accuracy: 0.9812\n",
            "Epoch 35/2000\n",
            "140/147 [===========================>..] - ETA: 0s - loss: 0.2337 - accuracy: 0.9267\n",
            "Epoch 35: saving model to model/keypoint_classifier\\keypoint_classifier.hdf5\n",
            "147/147 [==============================] - 1s 9ms/step - loss: 0.2351 - accuracy: 0.9264 - val_loss: 0.1138 - val_accuracy: 0.9781\n",
            "Epoch 36/2000\n",
            "140/147 [===========================>..] - ETA: 0s - loss: 0.2341 - accuracy: 0.9271\n",
            "Epoch 36: saving model to model/keypoint_classifier\\keypoint_classifier.hdf5\n",
            "147/147 [==============================] - 1s 9ms/step - loss: 0.2334 - accuracy: 0.9272 - val_loss: 0.1190 - val_accuracy: 0.9781\n",
            "Epoch 37/2000\n",
            "145/147 [============================>.] - ETA: 0s - loss: 0.2279 - accuracy: 0.9297\n",
            "Epoch 37: saving model to model/keypoint_classifier\\keypoint_classifier.hdf5\n",
            "147/147 [==============================] - 1s 9ms/step - loss: 0.2272 - accuracy: 0.9298 - val_loss: 0.1072 - val_accuracy: 0.9793\n",
            "Epoch 38/2000\n",
            "146/147 [============================>.] - ETA: 0s - loss: 0.2180 - accuracy: 0.9316\n",
            "Epoch 38: saving model to model/keypoint_classifier\\keypoint_classifier.hdf5\n",
            "147/147 [==============================] - 1s 9ms/step - loss: 0.2175 - accuracy: 0.9318 - val_loss: 0.1103 - val_accuracy: 0.9778\n",
            "Epoch 39/2000\n",
            "144/147 [============================>.] - ETA: 0s - loss: 0.2151 - accuracy: 0.9328\n",
            "Epoch 39: saving model to model/keypoint_classifier\\keypoint_classifier.hdf5\n",
            "147/147 [==============================] - 1s 9ms/step - loss: 0.2147 - accuracy: 0.9330 - val_loss: 0.1011 - val_accuracy: 0.9826\n",
            "Epoch 40/2000\n",
            "146/147 [============================>.] - ETA: 0s - loss: 0.2062 - accuracy: 0.9357\n",
            "Epoch 40: saving model to model/keypoint_classifier\\keypoint_classifier.hdf5\n",
            "147/147 [==============================] - 2s 11ms/step - loss: 0.2056 - accuracy: 0.9359 - val_loss: 0.1110 - val_accuracy: 0.9761\n",
            "Epoch 41/2000\n",
            "146/147 [============================>.] - ETA: 0s - loss: 0.2073 - accuracy: 0.9366\n",
            "Epoch 41: saving model to model/keypoint_classifier\\keypoint_classifier.hdf5\n",
            "147/147 [==============================] - 2s 10ms/step - loss: 0.2068 - accuracy: 0.9367 - val_loss: 0.1101 - val_accuracy: 0.9791\n",
            "Epoch 42/2000\n",
            "145/147 [============================>.] - ETA: 0s - loss: 0.2019 - accuracy: 0.9380\n",
            "Epoch 42: saving model to model/keypoint_classifier\\keypoint_classifier.hdf5\n",
            "147/147 [==============================] - 2s 11ms/step - loss: 0.2022 - accuracy: 0.9379 - val_loss: 0.0987 - val_accuracy: 0.9821\n",
            "Epoch 43/2000\n",
            "143/147 [============================>.] - ETA: 0s - loss: 0.1972 - accuracy: 0.9373\n",
            "Epoch 43: saving model to model/keypoint_classifier\\keypoint_classifier.hdf5\n",
            "147/147 [==============================] - 2s 11ms/step - loss: 0.1969 - accuracy: 0.9378 - val_loss: 0.1003 - val_accuracy: 0.9794\n",
            "Epoch 44/2000\n",
            "147/147 [==============================] - ETA: 0s - loss: 0.2001 - accuracy: 0.9408\n",
            "Epoch 44: saving model to model/keypoint_classifier\\keypoint_classifier.hdf5\n",
            "147/147 [==============================] - 2s 11ms/step - loss: 0.2001 - accuracy: 0.9408 - val_loss: 0.0984 - val_accuracy: 0.9818\n",
            "Epoch 45/2000\n",
            "141/147 [===========================>..] - ETA: 0s - loss: 0.1906 - accuracy: 0.9415\n",
            "Epoch 45: saving model to model/keypoint_classifier\\keypoint_classifier.hdf5\n",
            "147/147 [==============================] - 2s 12ms/step - loss: 0.1904 - accuracy: 0.9414 - val_loss: 0.1015 - val_accuracy: 0.9769\n",
            "Epoch 46/2000\n",
            "147/147 [==============================] - ETA: 0s - loss: 0.1923 - accuracy: 0.9412\n",
            "Epoch 46: saving model to model/keypoint_classifier\\keypoint_classifier.hdf5\n",
            "147/147 [==============================] - 2s 12ms/step - loss: 0.1923 - accuracy: 0.9412 - val_loss: 0.1002 - val_accuracy: 0.9804\n",
            "Epoch 47/2000\n",
            "145/147 [============================>.] - ETA: 0s - loss: 0.1873 - accuracy: 0.9412\n",
            "Epoch 47: saving model to model/keypoint_classifier\\keypoint_classifier.hdf5\n",
            "147/147 [==============================] - 1s 10ms/step - loss: 0.1869 - accuracy: 0.9412 - val_loss: 0.0898 - val_accuracy: 0.9810\n",
            "Epoch 48/2000\n",
            "143/147 [============================>.] - ETA: 0s - loss: 0.1844 - accuracy: 0.9450\n",
            "Epoch 48: saving model to model/keypoint_classifier\\keypoint_classifier.hdf5\n",
            "147/147 [==============================] - 1s 9ms/step - loss: 0.1836 - accuracy: 0.9453 - val_loss: 0.0948 - val_accuracy: 0.9826\n",
            "Epoch 49/2000\n",
            "146/147 [============================>.] - ETA: 0s - loss: 0.1802 - accuracy: 0.9437\n",
            "Epoch 49: saving model to model/keypoint_classifier\\keypoint_classifier.hdf5\n",
            "147/147 [==============================] - 1s 9ms/step - loss: 0.1801 - accuracy: 0.9438 - val_loss: 0.0969 - val_accuracy: 0.9788\n",
            "Epoch 50/2000\n",
            "145/147 [============================>.] - ETA: 0s - loss: 0.1792 - accuracy: 0.9431\n",
            "Epoch 50: saving model to model/keypoint_classifier\\keypoint_classifier.hdf5\n",
            "147/147 [==============================] - 1s 9ms/step - loss: 0.1788 - accuracy: 0.9433 - val_loss: 0.0871 - val_accuracy: 0.9818\n",
            "Epoch 51/2000\n",
            "145/147 [============================>.] - ETA: 0s - loss: 0.1750 - accuracy: 0.9474\n",
            "Epoch 51: saving model to model/keypoint_classifier\\keypoint_classifier.hdf5\n",
            "147/147 [==============================] - 1s 9ms/step - loss: 0.1743 - accuracy: 0.9475 - val_loss: 0.0922 - val_accuracy: 0.9802\n",
            "Epoch 52/2000\n",
            "142/147 [===========================>..] - ETA: 0s - loss: 0.1768 - accuracy: 0.9450\n",
            "Epoch 52: saving model to model/keypoint_classifier\\keypoint_classifier.hdf5\n",
            "147/147 [==============================] - 1s 8ms/step - loss: 0.1763 - accuracy: 0.9454 - val_loss: 0.0897 - val_accuracy: 0.9812\n",
            "Epoch 53/2000\n",
            "146/147 [============================>.] - ETA: 0s - loss: 0.1725 - accuracy: 0.9471\n",
            "Epoch 53: saving model to model/keypoint_classifier\\keypoint_classifier.hdf5\n",
            "147/147 [==============================] - 1s 9ms/step - loss: 0.1728 - accuracy: 0.9469 - val_loss: 0.0865 - val_accuracy: 0.9831\n",
            "Epoch 54/2000\n",
            "140/147 [===========================>..] - ETA: 0s - loss: 0.1739 - accuracy: 0.9443\n",
            "Epoch 54: saving model to model/keypoint_classifier\\keypoint_classifier.hdf5\n",
            "147/147 [==============================] - 1s 9ms/step - loss: 0.1748 - accuracy: 0.9445 - val_loss: 0.0878 - val_accuracy: 0.9818\n",
            "Epoch 55/2000\n",
            "145/147 [============================>.] - ETA: 0s - loss: 0.1718 - accuracy: 0.9469\n",
            "Epoch 55: saving model to model/keypoint_classifier\\keypoint_classifier.hdf5\n",
            "147/147 [==============================] - 2s 17ms/step - loss: 0.1716 - accuracy: 0.9471 - val_loss: 0.0923 - val_accuracy: 0.9818\n",
            "Epoch 56/2000\n",
            "144/147 [============================>.] - ETA: 0s - loss: 0.1652 - accuracy: 0.9500\n",
            "Epoch 56: saving model to model/keypoint_classifier\\keypoint_classifier.hdf5\n",
            "147/147 [==============================] - 2s 16ms/step - loss: 0.1649 - accuracy: 0.9500 - val_loss: 0.0923 - val_accuracy: 0.9805\n",
            "Epoch 57/2000\n",
            "143/147 [============================>.] - ETA: 0s - loss: 0.1636 - accuracy: 0.9490\n",
            "Epoch 57: saving model to model/keypoint_classifier\\keypoint_classifier.hdf5\n",
            "147/147 [==============================] - 3s 17ms/step - loss: 0.1635 - accuracy: 0.9488 - val_loss: 0.0801 - val_accuracy: 0.9831\n",
            "Epoch 58/2000\n",
            "145/147 [============================>.] - ETA: 0s - loss: 0.1624 - accuracy: 0.9489\n",
            "Epoch 58: saving model to model/keypoint_classifier\\keypoint_classifier.hdf5\n",
            "147/147 [==============================] - 2s 15ms/step - loss: 0.1633 - accuracy: 0.9491 - val_loss: 0.0834 - val_accuracy: 0.9826\n",
            "Epoch 59/2000\n",
            "147/147 [==============================] - ETA: 0s - loss: 0.1543 - accuracy: 0.9509\n",
            "Epoch 59: saving model to model/keypoint_classifier\\keypoint_classifier.hdf5\n",
            "147/147 [==============================] - 2s 13ms/step - loss: 0.1543 - accuracy: 0.9509 - val_loss: 0.0850 - val_accuracy: 0.9818\n",
            "Epoch 60/2000\n",
            "141/147 [===========================>..] - ETA: 0s - loss: 0.1500 - accuracy: 0.9527\n",
            "Epoch 60: saving model to model/keypoint_classifier\\keypoint_classifier.hdf5\n",
            "147/147 [==============================] - 2s 11ms/step - loss: 0.1496 - accuracy: 0.9528 - val_loss: 0.0753 - val_accuracy: 0.9861\n",
            "Epoch 61/2000\n",
            "144/147 [============================>.] - ETA: 0s - loss: 0.1527 - accuracy: 0.9522\n",
            "Epoch 61: saving model to model/keypoint_classifier\\keypoint_classifier.hdf5\n",
            "147/147 [==============================] - 2s 11ms/step - loss: 0.1516 - accuracy: 0.9526 - val_loss: 0.0872 - val_accuracy: 0.9785\n",
            "Epoch 62/2000\n",
            "143/147 [============================>.] - ETA: 0s - loss: 0.1476 - accuracy: 0.9530\n",
            "Epoch 62: saving model to model/keypoint_classifier\\keypoint_classifier.hdf5\n",
            "147/147 [==============================] - 2s 10ms/step - loss: 0.1470 - accuracy: 0.9532 - val_loss: 0.0787 - val_accuracy: 0.9845\n",
            "Epoch 63/2000\n",
            "146/147 [============================>.] - ETA: 0s - loss: 0.1576 - accuracy: 0.9509\n",
            "Epoch 63: saving model to model/keypoint_classifier\\keypoint_classifier.hdf5\n",
            "147/147 [==============================] - 2s 10ms/step - loss: 0.1581 - accuracy: 0.9509 - val_loss: 0.0733 - val_accuracy: 0.9850\n",
            "Epoch 64/2000\n",
            "142/147 [===========================>..] - ETA: 0s - loss: 0.1586 - accuracy: 0.9504\n",
            "Epoch 64: saving model to model/keypoint_classifier\\keypoint_classifier.hdf5\n",
            "147/147 [==============================] - 1s 10ms/step - loss: 0.1584 - accuracy: 0.9503 - val_loss: 0.0869 - val_accuracy: 0.9802\n",
            "Epoch 65/2000\n",
            "145/147 [============================>.] - ETA: 0s - loss: 0.1495 - accuracy: 0.9530\n",
            "Epoch 65: saving model to model/keypoint_classifier\\keypoint_classifier.hdf5\n",
            "147/147 [==============================] - 1s 10ms/step - loss: 0.1493 - accuracy: 0.9530 - val_loss: 0.0825 - val_accuracy: 0.9831\n",
            "Epoch 66/2000\n",
            "144/147 [============================>.] - ETA: 0s - loss: 0.1497 - accuracy: 0.9534\n",
            "Epoch 66: saving model to model/keypoint_classifier\\keypoint_classifier.hdf5\n",
            "147/147 [==============================] - 1s 9ms/step - loss: 0.1493 - accuracy: 0.9535 - val_loss: 0.0884 - val_accuracy: 0.9781\n",
            "Epoch 67/2000\n",
            "146/147 [============================>.] - ETA: 0s - loss: 0.1540 - accuracy: 0.9522\n",
            "Epoch 67: saving model to model/keypoint_classifier\\keypoint_classifier.hdf5\n",
            "147/147 [==============================] - 2s 11ms/step - loss: 0.1539 - accuracy: 0.9522 - val_loss: 0.0789 - val_accuracy: 0.9840\n",
            "Epoch 68/2000\n",
            "147/147 [==============================] - ETA: 0s - loss: 0.1457 - accuracy: 0.9534\n",
            "Epoch 68: saving model to model/keypoint_classifier\\keypoint_classifier.hdf5\n",
            "147/147 [==============================] - 3s 23ms/step - loss: 0.1457 - accuracy: 0.9534 - val_loss: 0.0862 - val_accuracy: 0.9781\n",
            "Epoch 69/2000\n",
            "147/147 [==============================] - ETA: 0s - loss: 0.1415 - accuracy: 0.9542\n",
            "Epoch 69: saving model to model/keypoint_classifier\\keypoint_classifier.hdf5\n",
            "147/147 [==============================] - 4s 28ms/step - loss: 0.1415 - accuracy: 0.9542 - val_loss: 0.0780 - val_accuracy: 0.9825\n",
            "Epoch 70/2000\n",
            "146/147 [============================>.] - ETA: 0s - loss: 0.1445 - accuracy: 0.9545\n",
            "Epoch 70: saving model to model/keypoint_classifier\\keypoint_classifier.hdf5\n",
            "147/147 [==============================] - 5s 33ms/step - loss: 0.1445 - accuracy: 0.9544 - val_loss: 0.0873 - val_accuracy: 0.9812\n",
            "Epoch 71/2000\n",
            "145/147 [============================>.] - ETA: 0s - loss: 0.1341 - accuracy: 0.9584\n",
            "Epoch 71: saving model to model/keypoint_classifier\\keypoint_classifier.hdf5\n",
            "147/147 [==============================] - 3s 22ms/step - loss: 0.1344 - accuracy: 0.9582 - val_loss: 0.0729 - val_accuracy: 0.9839\n",
            "Epoch 72/2000\n",
            "147/147 [==============================] - ETA: 0s - loss: 0.1394 - accuracy: 0.9550\n",
            "Epoch 72: saving model to model/keypoint_classifier\\keypoint_classifier.hdf5\n",
            "147/147 [==============================] - 4s 30ms/step - loss: 0.1394 - accuracy: 0.9550 - val_loss: 0.0699 - val_accuracy: 0.9860\n",
            "Epoch 73/2000\n",
            "144/147 [============================>.] - ETA: 0s - loss: 0.1380 - accuracy: 0.9562\n",
            "Epoch 73: saving model to model/keypoint_classifier\\keypoint_classifier.hdf5\n",
            "147/147 [==============================] - 2s 16ms/step - loss: 0.1376 - accuracy: 0.9563 - val_loss: 0.0697 - val_accuracy: 0.9860\n",
            "Epoch 74/2000\n",
            "143/147 [============================>.] - ETA: 0s - loss: 0.1340 - accuracy: 0.9572\n",
            "Epoch 74: saving model to model/keypoint_classifier\\keypoint_classifier.hdf5\n",
            "147/147 [==============================] - 2s 15ms/step - loss: 0.1338 - accuracy: 0.9575 - val_loss: 0.0795 - val_accuracy: 0.9826\n",
            "Epoch 75/2000\n",
            "142/147 [===========================>..] - ETA: 0s - loss: 0.1326 - accuracy: 0.9601\n",
            "Epoch 75: saving model to model/keypoint_classifier\\keypoint_classifier.hdf5\n",
            "147/147 [==============================] - 2s 13ms/step - loss: 0.1322 - accuracy: 0.9601 - val_loss: 0.0710 - val_accuracy: 0.9831\n",
            "Epoch 76/2000\n",
            "145/147 [============================>.] - ETA: 0s - loss: 0.1292 - accuracy: 0.9582\n",
            "Epoch 76: saving model to model/keypoint_classifier\\keypoint_classifier.hdf5\n",
            "147/147 [==============================] - 2s 13ms/step - loss: 0.1305 - accuracy: 0.9578 - val_loss: 0.0724 - val_accuracy: 0.9839\n",
            "Epoch 77/2000\n",
            "146/147 [============================>.] - ETA: 0s - loss: 0.1305 - accuracy: 0.9579\n",
            "Epoch 77: saving model to model/keypoint_classifier\\keypoint_classifier.hdf5\n",
            "147/147 [==============================] - 4s 26ms/step - loss: 0.1305 - accuracy: 0.9579 - val_loss: 0.0786 - val_accuracy: 0.9831\n",
            "Epoch 78/2000\n",
            "141/147 [===========================>..] - ETA: 0s - loss: 0.1312 - accuracy: 0.9597\n",
            "Epoch 78: saving model to model/keypoint_classifier\\keypoint_classifier.hdf5\n",
            "147/147 [==============================] - 2s 13ms/step - loss: 0.1322 - accuracy: 0.9591 - val_loss: 0.0783 - val_accuracy: 0.9818\n",
            "Epoch 79/2000\n",
            "146/147 [============================>.] - ETA: 0s - loss: 0.1338 - accuracy: 0.9572\n",
            "Epoch 79: saving model to model/keypoint_classifier\\keypoint_classifier.hdf5\n",
            "147/147 [==============================] - 2s 13ms/step - loss: 0.1343 - accuracy: 0.9571 - val_loss: 0.0749 - val_accuracy: 0.9826\n",
            "Epoch 80/2000\n",
            "143/147 [============================>.] - ETA: 0s - loss: 0.1330 - accuracy: 0.9585\n",
            "Epoch 80: saving model to model/keypoint_classifier\\keypoint_classifier.hdf5\n",
            "147/147 [==============================] - 2s 12ms/step - loss: 0.1332 - accuracy: 0.9585 - val_loss: 0.0738 - val_accuracy: 0.9844\n",
            "Epoch 81/2000\n",
            "143/147 [============================>.] - ETA: 0s - loss: 0.1217 - accuracy: 0.9603\n",
            "Epoch 81: saving model to model/keypoint_classifier\\keypoint_classifier.hdf5\n",
            "147/147 [==============================] - 2s 12ms/step - loss: 0.1221 - accuracy: 0.9600 - val_loss: 0.0840 - val_accuracy: 0.9796\n",
            "Epoch 82/2000\n",
            "142/147 [===========================>..] - ETA: 0s - loss: 0.1214 - accuracy: 0.9632\n",
            "Epoch 82: saving model to model/keypoint_classifier\\keypoint_classifier.hdf5\n",
            "147/147 [==============================] - 2s 13ms/step - loss: 0.1214 - accuracy: 0.9629 - val_loss: 0.0787 - val_accuracy: 0.9815\n",
            "Epoch 83/2000\n",
            "145/147 [============================>.] - ETA: 0s - loss: 0.1275 - accuracy: 0.9601\n",
            "Epoch 83: saving model to model/keypoint_classifier\\keypoint_classifier.hdf5\n",
            "147/147 [==============================] - 2s 12ms/step - loss: 0.1272 - accuracy: 0.9601 - val_loss: 0.0653 - val_accuracy: 0.9864\n",
            "Epoch 84/2000\n",
            "142/147 [===========================>..] - ETA: 0s - loss: 0.1231 - accuracy: 0.9605\n",
            "Epoch 84: saving model to model/keypoint_classifier\\keypoint_classifier.hdf5\n",
            "147/147 [==============================] - 2s 12ms/step - loss: 0.1236 - accuracy: 0.9603 - val_loss: 0.0753 - val_accuracy: 0.9836\n",
            "Epoch 85/2000\n",
            "147/147 [==============================] - ETA: 0s - loss: 0.1287 - accuracy: 0.9600\n",
            "Epoch 85: saving model to model/keypoint_classifier\\keypoint_classifier.hdf5\n",
            "147/147 [==============================] - 2s 13ms/step - loss: 0.1287 - accuracy: 0.9600 - val_loss: 0.0738 - val_accuracy: 0.9836\n",
            "Epoch 86/2000\n",
            "146/147 [============================>.] - ETA: 0s - loss: 0.1216 - accuracy: 0.9622\n",
            "Epoch 86: saving model to model/keypoint_classifier\\keypoint_classifier.hdf5\n",
            "147/147 [==============================] - 6s 39ms/step - loss: 0.1215 - accuracy: 0.9620 - val_loss: 0.0775 - val_accuracy: 0.9828\n",
            "Epoch 87/2000\n",
            "147/147 [==============================] - ETA: 0s - loss: 0.1222 - accuracy: 0.9626\n",
            "Epoch 87: saving model to model/keypoint_classifier\\keypoint_classifier.hdf5\n",
            "147/147 [==============================] - 5s 33ms/step - loss: 0.1222 - accuracy: 0.9626 - val_loss: 0.0659 - val_accuracy: 0.9852\n",
            "Epoch 88/2000\n",
            "147/147 [==============================] - ETA: 0s - loss: 0.1228 - accuracy: 0.9596\n",
            "Epoch 88: saving model to model/keypoint_classifier\\keypoint_classifier.hdf5\n",
            "147/147 [==============================] - 5s 33ms/step - loss: 0.1228 - accuracy: 0.9596 - val_loss: 0.0691 - val_accuracy: 0.9844\n",
            "Epoch 89/2000\n",
            "145/147 [============================>.] - ETA: 0s - loss: 0.1188 - accuracy: 0.9603\n",
            "Epoch 89: saving model to model/keypoint_classifier\\keypoint_classifier.hdf5\n",
            "147/147 [==============================] - 5s 32ms/step - loss: 0.1192 - accuracy: 0.9603 - val_loss: 0.0751 - val_accuracy: 0.9828\n",
            "Epoch 90/2000\n",
            "146/147 [============================>.] - ETA: 0s - loss: 0.1200 - accuracy: 0.9624\n",
            "Epoch 90: saving model to model/keypoint_classifier\\keypoint_classifier.hdf5\n",
            "147/147 [==============================] - 5s 35ms/step - loss: 0.1201 - accuracy: 0.9625 - val_loss: 0.0667 - val_accuracy: 0.9848\n",
            "Epoch 91/2000\n",
            "145/147 [============================>.] - ETA: 0s - loss: 0.1151 - accuracy: 0.9636\n",
            "Epoch 91: saving model to model/keypoint_classifier\\keypoint_classifier.hdf5\n",
            "147/147 [==============================] - 5s 33ms/step - loss: 0.1149 - accuracy: 0.9637 - val_loss: 0.0615 - val_accuracy: 0.9876\n",
            "Epoch 92/2000\n",
            "146/147 [============================>.] - ETA: 0s - loss: 0.1174 - accuracy: 0.9617\n",
            "Epoch 92: saving model to model/keypoint_classifier\\keypoint_classifier.hdf5\n",
            "147/147 [==============================] - 5s 35ms/step - loss: 0.1176 - accuracy: 0.9617 - val_loss: 0.0683 - val_accuracy: 0.9860\n",
            "Epoch 93/2000\n",
            "147/147 [==============================] - ETA: 0s - loss: 0.1189 - accuracy: 0.9623\n",
            "Epoch 93: saving model to model/keypoint_classifier\\keypoint_classifier.hdf5\n",
            "147/147 [==============================] - 5s 33ms/step - loss: 0.1189 - accuracy: 0.9623 - val_loss: 0.0716 - val_accuracy: 0.9844\n",
            "Epoch 94/2000\n",
            "146/147 [============================>.] - ETA: 0s - loss: 0.1122 - accuracy: 0.9645\n",
            "Epoch 94: saving model to model/keypoint_classifier\\keypoint_classifier.hdf5\n",
            "147/147 [==============================] - 5s 33ms/step - loss: 0.1124 - accuracy: 0.9644 - val_loss: 0.0728 - val_accuracy: 0.9845\n",
            "Epoch 95/2000\n",
            "147/147 [==============================] - ETA: 0s - loss: 0.1133 - accuracy: 0.9628\n",
            "Epoch 95: saving model to model/keypoint_classifier\\keypoint_classifier.hdf5\n",
            "147/147 [==============================] - 4s 30ms/step - loss: 0.1133 - accuracy: 0.9628 - val_loss: 0.0748 - val_accuracy: 0.9823\n",
            "Epoch 96/2000\n",
            "145/147 [============================>.] - ETA: 0s - loss: 0.1132 - accuracy: 0.9649\n",
            "Epoch 96: saving model to model/keypoint_classifier\\keypoint_classifier.hdf5\n",
            "147/147 [==============================] - 5s 35ms/step - loss: 0.1139 - accuracy: 0.9647 - val_loss: 0.0714 - val_accuracy: 0.9833\n",
            "Epoch 97/2000\n",
            "145/147 [============================>.] - ETA: 0s - loss: 0.1115 - accuracy: 0.9643\n",
            "Epoch 97: saving model to model/keypoint_classifier\\keypoint_classifier.hdf5\n",
            "147/147 [==============================] - 4s 24ms/step - loss: 0.1119 - accuracy: 0.9641 - val_loss: 0.0665 - val_accuracy: 0.9877\n",
            "Epoch 98/2000\n",
            "142/147 [===========================>..] - ETA: 0s - loss: 0.1070 - accuracy: 0.9655\n",
            "Epoch 98: saving model to model/keypoint_classifier\\keypoint_classifier.hdf5\n",
            "147/147 [==============================] - 3s 18ms/step - loss: 0.1064 - accuracy: 0.9658 - val_loss: 0.0619 - val_accuracy: 0.9871\n",
            "Epoch 99/2000\n",
            "147/147 [==============================] - ETA: 0s - loss: 0.1115 - accuracy: 0.9624\n",
            "Epoch 99: saving model to model/keypoint_classifier\\keypoint_classifier.hdf5\n",
            "147/147 [==============================] - 4s 29ms/step - loss: 0.1115 - accuracy: 0.9624 - val_loss: 0.0687 - val_accuracy: 0.9842\n",
            "Epoch 100/2000\n",
            "143/147 [============================>.] - ETA: 0s - loss: 0.1094 - accuracy: 0.9662\n",
            "Epoch 100: saving model to model/keypoint_classifier\\keypoint_classifier.hdf5\n",
            "147/147 [==============================] - 4s 29ms/step - loss: 0.1097 - accuracy: 0.9662 - val_loss: 0.0661 - val_accuracy: 0.9853\n",
            "Epoch 101/2000\n",
            "144/147 [============================>.] - ETA: 0s - loss: 0.1066 - accuracy: 0.9656\n",
            "Epoch 101: saving model to model/keypoint_classifier\\keypoint_classifier.hdf5\n",
            "147/147 [==============================] - 4s 28ms/step - loss: 0.1064 - accuracy: 0.9657 - val_loss: 0.0644 - val_accuracy: 0.9868\n",
            "Epoch 102/2000\n",
            "144/147 [============================>.] - ETA: 0s - loss: 0.1061 - accuracy: 0.9661\n",
            "Epoch 102: saving model to model/keypoint_classifier\\keypoint_classifier.hdf5\n",
            "147/147 [==============================] - 4s 24ms/step - loss: 0.1057 - accuracy: 0.9662 - val_loss: 0.0696 - val_accuracy: 0.9858\n",
            "Epoch 103/2000\n",
            "145/147 [============================>.] - ETA: 0s - loss: 0.1078 - accuracy: 0.9650\n",
            "Epoch 103: saving model to model/keypoint_classifier\\keypoint_classifier.hdf5\n",
            "147/147 [==============================] - 7s 45ms/step - loss: 0.1082 - accuracy: 0.9649 - val_loss: 0.0686 - val_accuracy: 0.9847\n",
            "Epoch 104/2000\n",
            "147/147 [==============================] - ETA: 0s - loss: 0.1118 - accuracy: 0.9639\n",
            "Epoch 104: saving model to model/keypoint_classifier\\keypoint_classifier.hdf5\n",
            "147/147 [==============================] - 7s 46ms/step - loss: 0.1118 - accuracy: 0.9639 - val_loss: 0.0627 - val_accuracy: 0.9879\n",
            "Epoch 105/2000\n",
            "147/147 [==============================] - ETA: 0s - loss: 0.1022 - accuracy: 0.9664\n",
            "Epoch 105: saving model to model/keypoint_classifier\\keypoint_classifier.hdf5\n",
            "147/147 [==============================] - 8s 52ms/step - loss: 0.1022 - accuracy: 0.9664 - val_loss: 0.0664 - val_accuracy: 0.9848\n",
            "Epoch 106/2000\n",
            "146/147 [============================>.] - ETA: 0s - loss: 0.1018 - accuracy: 0.9660\n",
            "Epoch 106: saving model to model/keypoint_classifier\\keypoint_classifier.hdf5\n",
            "147/147 [==============================] - 6s 38ms/step - loss: 0.1019 - accuracy: 0.9659 - val_loss: 0.0622 - val_accuracy: 0.9877\n",
            "Epoch 107/2000\n",
            "145/147 [============================>.] - ETA: 0s - loss: 0.1083 - accuracy: 0.9658\n",
            "Epoch 107: saving model to model/keypoint_classifier\\keypoint_classifier.hdf5\n",
            "147/147 [==============================] - 6s 41ms/step - loss: 0.1080 - accuracy: 0.9660 - val_loss: 0.0619 - val_accuracy: 0.9866\n",
            "Epoch 108/2000\n",
            "147/147 [==============================] - ETA: 0s - loss: 0.1049 - accuracy: 0.9655\n",
            "Epoch 108: saving model to model/keypoint_classifier\\keypoint_classifier.hdf5\n",
            "147/147 [==============================] - 6s 44ms/step - loss: 0.1049 - accuracy: 0.9655 - val_loss: 0.0736 - val_accuracy: 0.9837\n",
            "Epoch 109/2000\n",
            "145/147 [============================>.] - ETA: 0s - loss: 0.1039 - accuracy: 0.9675\n",
            "Epoch 109: saving model to model/keypoint_classifier\\keypoint_classifier.hdf5\n",
            "147/147 [==============================] - 6s 40ms/step - loss: 0.1035 - accuracy: 0.9677 - val_loss: 0.0662 - val_accuracy: 0.9853\n",
            "Epoch 110/2000\n",
            "145/147 [============================>.] - ETA: 0s - loss: 0.1046 - accuracy: 0.9676\n",
            "Epoch 110: saving model to model/keypoint_classifier\\keypoint_classifier.hdf5\n",
            "147/147 [==============================] - 5s 34ms/step - loss: 0.1045 - accuracy: 0.9676 - val_loss: 0.0654 - val_accuracy: 0.9864\n",
            "Epoch 111/2000\n",
            "147/147 [==============================] - ETA: 0s - loss: 0.1004 - accuracy: 0.9687\n",
            "Epoch 111: saving model to model/keypoint_classifier\\keypoint_classifier.hdf5\n",
            "147/147 [==============================] - 6s 39ms/step - loss: 0.1004 - accuracy: 0.9687 - val_loss: 0.0663 - val_accuracy: 0.9845\n",
            "Epoch 111: early stopping\n"
          ]
        }
      ],
      "source": [
        "history=model.fit(\n",
        "    X_train,\n",
        "    y_train,\n",
        "    epochs=2000,\n",
        "    batch_size=128,\n",
        "    validation_data=(X_test, y_test),\n",
        "    callbacks=[cp_callback, es_callback]\n",
        ")"
      ]
    },
    {
      "cell_type": "code",
      "execution_count": 43,
      "metadata": {
        "colab": {
          "base_uri": "https://localhost:8080/"
        },
        "id": "pxvb2Y299hE3",
        "outputId": "59eb3185-2e37-4b9e-bc9d-ab1b8ac29b7f"
      },
      "outputs": [
        {
          "name": "stdout",
          "output_type": "stream",
          "text": [
            "49/49 [==============================] - 1s 13ms/step - loss: 0.0663 - accuracy: 0.9845\n"
          ]
        }
      ],
      "source": [
        "# Model evaluation\n",
        "val_loss, val_acc = model.evaluate(X_test, y_test, batch_size=128)"
      ]
    },
    {
      "cell_type": "code",
      "execution_count": 44,
      "metadata": {
        "id": "RBkmDeUW9hE4"
      },
      "outputs": [],
      "source": [
        "# Loading the saved model\n",
        "model = tf.keras.models.load_model(model_save_path)"
      ]
    },
    {
      "cell_type": "code",
      "execution_count": 45,
      "metadata": {
        "colab": {
          "base_uri": "https://localhost:8080/"
        },
        "id": "tFz9Tb0I9hE4",
        "outputId": "1c3b3528-54ae-4ee2-ab04-77429211cbef"
      },
      "outputs": [
        {
          "name": "stdout",
          "output_type": "stream",
          "text": [
            "1/1 [==============================] - 2s 2s/step\n",
            "[4.0725143e-05 8.9486436e-19 4.2166853e-11 8.8240671e-19 8.0210526e-08\n",
            " 6.2992261e-04 9.0215768e-20 6.2013006e-11 8.9950969e-13 2.5556494e-13\n",
            " 2.5934560e-20 5.6991100e-21 1.7655006e-11 9.7028729e-10 1.5209369e-09\n",
            " 8.2463094e-09 6.6451629e-11 1.1939032e-18 7.6760204e-12 5.5737859e-09\n",
            " 3.0937192e-15 6.4515952e-14 4.6887535e-33 2.5919168e-17 2.6397351e-23\n",
            " 1.2729588e-13 2.2287312e-22 3.5960414e-07 2.2171594e-19 9.9303566e-21\n",
            " 9.5435348e-07 1.0906785e-19 1.9432967e-14 5.3065622e-07 2.9697998e-25\n",
            " 9.9932742e-01 8.6822366e-17 6.6190708e-17]\n",
            "35\n"
          ]
        }
      ],
      "source": [
        "# Inference test\n",
        "predict_result = model.predict(np.array([X_test[0]]))\n",
        "print(np.squeeze(predict_result))\n",
        "print(np.argmax(np.squeeze(predict_result)))"
      ]
    },
    {
      "cell_type": "markdown",
      "metadata": {
        "id": "S3U4yNWx9hE4"
      },
      "source": [
        "# Confusion matrix"
      ]
    },
    {
      "cell_type": "code",
      "execution_count": 46,
      "metadata": {
        "colab": {
          "base_uri": "https://localhost:8080/",
          "height": 582
        },
        "id": "AP1V6SCk9hE5",
        "outputId": "08e41a80-7a4a-4619-8125-ecc371368d19"
      },
      "outputs": [
        {
          "name": "stdout",
          "output_type": "stream",
          "text": [
            "196/196 [==============================] - 2s 8ms/step\n"
          ]
        },
        {
          "data": {
            "image/png": "[encoded data removed]",
            "text/plain": [
              "<Figure size 504x432 with 2 Axes>"
            ]
          },
          "metadata": {
            "needs_background": "light"
          },
          "output_type": "display_data"
        },
        {
          "name": "stdout",
          "output_type": "stream",
          "text": [
            "Classification Report\n",
            "              precision    recall  f1-score   support\n",
            "\n",
            "           0       0.99      0.98      0.98       147\n",
            "           1       0.99      1.00      0.99       163\n",
            "           2       0.89      1.00      0.94       177\n",
            "           3       0.99      0.98      0.99       167\n",
            "           4       0.98      0.99      0.99       138\n",
            "           5       1.00      1.00      1.00       159\n",
            "           6       0.99      0.98      0.99       176\n",
            "           7       0.98      1.00      0.99       168\n",
            "           8       1.00      0.99      1.00       153\n",
            "           9       1.00      0.99      1.00       134\n",
            "          10       1.00      0.90      0.95       228\n",
            "          11       0.91      1.00      0.95       231\n",
            "          12       1.00      0.98      0.99       170\n",
            "          13       1.00      0.99      0.99       310\n",
            "          14       1.00      0.98      0.99       237\n",
            "          15       1.00      1.00      1.00       161\n",
            "          16       0.98      0.97      0.98       174\n",
            "          17       1.00      0.97      0.98       158\n",
            "          18       1.00      0.96      0.98       211\n",
            "          19       0.99      1.00      1.00       183\n",
            "          20       1.00      0.99      1.00       103\n",
            "          21       0.98      1.00      0.99        81\n",
            "          22       0.98      1.00      0.99       204\n",
            "          23       0.99      0.98      0.99       179\n",
            "          24       1.00      0.99      1.00       230\n",
            "          25       0.99      1.00      1.00       177\n",
            "          26       0.98      0.99      0.99       197\n",
            "          27       1.00      0.97      0.98        98\n",
            "          28       1.00      1.00      1.00       215\n",
            "          29       0.99      0.99      0.99       150\n",
            "          30       1.00      0.98      0.99       148\n",
            "          31       1.00      0.99      0.99       156\n",
            "          32       0.92      1.00      0.96       189\n",
            "          33       0.99      0.91      0.95       165\n",
            "          34       1.00      1.00      1.00        98\n",
            "          35       1.00      0.99      1.00       126\n",
            "          36       1.00      1.00      1.00       108\n",
            "\n",
            "    accuracy                           0.98      6269\n",
            "   macro avg       0.99      0.99      0.99      6269\n",
            "weighted avg       0.99      0.98      0.98      6269\n",
            "\n"
          ]
        }
      ],
      "source": [
        "import pandas as pd\n",
        "import seaborn as sns\n",
        "import matplotlib.pyplot as plt\n",
        "from sklearn.metrics import confusion_matrix, classification_report\n",
        "\n",
        "def print_confusion_matrix(y_true, y_pred, report=True):\n",
        "    labels = sorted(list(set(y_true)))\n",
        "    cmx_data = confusion_matrix(y_true, y_pred, labels=labels)\n",
        "    \n",
        "    df_cmx = pd.DataFrame(cmx_data, index=labels, columns=labels)\n",
        " \n",
        "    fig, ax = plt.subplots(figsize=(7, 6))\n",
        "    sns.heatmap(df_cmx, annot=True, fmt='g' ,square=False)\n",
        "    ax.set_ylim(len(set(y_true)), 0)\n",
        "    plt.show()\n",
        "    \n",
        "    if report:\n",
        "        print('Classification Report')\n",
        "        print(classification_report(y_test, y_pred))\n",
        "\n",
        "Y_pred = model.predict(X_test)\n",
        "y_pred = np.argmax(Y_pred, axis=1)\n",
        "\n",
        "print_confusion_matrix(y_test, y_pred)"
      ]
    },
    {
      "cell_type": "markdown",
      "metadata": {
        "id": "FNP6aqzc9hE5"
      },
      "source": [
        "# Convert to model for Tensorflow-Lite"
      ]
    },
    {
      "cell_type": "code",
      "execution_count": 47,
      "metadata": {
        "id": "ODjnYyld9hE6"
      },
      "outputs": [],
      "source": [
        "# Save as a model dedicated to inference\n",
        "model.save(model_save_path, include_optimizer=False)"
      ]
    },
    {
      "cell_type": "code",
      "execution_count": 48,
      "metadata": {
        "colab": {
          "base_uri": "https://localhost:8080/"
        },
        "id": "zRfuK8Y59hE6",
        "outputId": "a4ca585c-b5d5-4244-8291-8674063209bb"
      },
      "outputs": [
        {
          "name": "stdout",
          "output_type": "stream",
          "text": [
            "INFO:tensorflow:Assets written to: C:\\Users\\user\\AppData\\Local\\Temp\\tmpyduptv4a\\assets\n"
          ]
        },
        {
          "name": "stderr",
          "output_type": "stream",
          "text": [
            "INFO:tensorflow:Assets written to: C:\\Users\\user\\AppData\\Local\\Temp\\tmpyduptv4a\\assets\n"
          ]
        },
        {
          "data": {
            "text/plain": [
              "40040"
            ]
          },
          "execution_count": 48,
          "metadata": {},
          "output_type": "execute_result"
        }
      ],
      "source": [
        "# Transform model (quantization)\n",
        "\n",
        "converter = tf.lite.TFLiteConverter.from_keras_model(model)\n",
        "converter.optimizations = [tf.lite.Optimize.DEFAULT]\n",
        "tflite_quantized_model = converter.convert()\n",
        "\n",
        "open(tflite_save_path, 'wb').write(tflite_quantized_model)"
      ]
    },
    {
      "cell_type": "markdown",
      "metadata": {
        "id": "CHBPBXdx9hE6"
      },
      "source": [
        "# Inference test"
      ]
    },
    {
      "cell_type": "code",
      "execution_count": 49,
      "metadata": {
        "id": "mGAzLocO9hE7"
      },
      "outputs": [],
      "source": [
        "interpreter = tf.lite.Interpreter(model_path=tflite_save_path)\n",
        "interpreter.allocate_tensors()"
      ]
    },
    {
      "cell_type": "code",
      "execution_count": 50,
      "metadata": {
        "id": "oQuDK8YS9hE7"
      },
      "outputs": [],
      "source": [
        "# Get I / O tensor\n",
        "input_details = interpreter.get_input_details()\n",
        "output_details = interpreter.get_output_details()"
      ]
    },
    {
      "cell_type": "code",
      "execution_count": 51,
      "metadata": {
        "id": "2_ixAf_l9hE7"
      },
      "outputs": [],
      "source": [
        "interpreter.set_tensor(input_details[0]['index'], np.array([X_test[0]]))"
      ]
    },
    {
      "cell_type": "code",
      "execution_count": 52,
      "metadata": {
        "colab": {
          "base_uri": "https://localhost:8080/"
        },
        "id": "s4FoAnuc9hE7",
        "outputId": "91f18257-8d8b-4ef3-c558-e9b5f94fabbf",
        "scrolled": true
      },
      "outputs": [
        {
          "name": "stdout",
          "output_type": "stream",
          "text": [
            "[4.2876043e-05 8.3471070e-19 4.1880738e-11 7.1069694e-19 9.1692343e-08\n",
            " 5.5052014e-04 1.1056850e-19 7.9690470e-11 9.5273258e-13 2.1571990e-13\n",
            " 2.6487892e-20 7.0992671e-21 2.3477643e-11 1.1812387e-09 1.8784445e-09\n",
            " 8.9730685e-09 6.2675864e-11 1.0602127e-18 9.1752335e-12 4.2098058e-09\n",
            " 3.8756031e-15 8.0990519e-14 4.3002500e-33 3.1448236e-17 2.3744100e-23\n",
            " 1.7963394e-13 3.0440630e-22 4.1365743e-07 2.8218289e-19 1.2674026e-20\n",
            " 8.6181552e-07 1.5058367e-19 1.8364105e-14 6.9683557e-07 2.8021473e-25\n",
            " 9.9940443e-01 1.1208003e-16 7.3335848e-17]\n",
            "35\n"
          ]
        }
      ],
      "source": [
        "# Inference implementation\n",
        "interpreter.invoke()\n",
        "tflite_results = interpreter.get_tensor(output_details[0]['index'])\n",
        "print(np.squeeze(tflite_results))\n",
        "print(np.argmax(np.squeeze(tflite_results)))"
      ]
    },
    {
      "cell_type": "code",
      "execution_count": 53,
      "metadata": {
        "colab": {
          "base_uri": "https://localhost:8080/"
        },
        "id": "vONjp19J9hE8",
        "outputId": "77205e24-fd00-42c4-f7b6-e06e527c2cba"
      },
      "outputs": [
        {
          "data": {
            "text/plain": [
              "<matplotlib.legend.Legend at 0x21477ff5100>"
            ]
          },
          "execution_count": 53,
          "metadata": {},
          "output_type": "execute_result"
        },
        {
          "data": {
            "image/png": "[encoded data removed]",
            "text/plain": [
              "<Figure size 432x288 with 1 Axes>"
            ]
          },
          "metadata": {
            "needs_background": "light"
          },
          "output_type": "display_data"
        }
      ],
      "source": [
        "import matplotlib.pyplot as plot\n",
        "plot.subplot(2,1,1)\n",
        "plot.plot(history.history['accuracy'])\n",
        "plot.plot(history.history['val_accuracy'])\n",
        "plot.title('model accuracy')\n",
        "plot.ylabel('accuracy')\n",
        "plot.xlabel('epoch')\n",
        "plot.legend(['train', 'test'], loc='lower right')\n"
      ]
    },
    {
      "cell_type": "code",
      "execution_count": 54,
      "metadata": {},
      "outputs": [
        {
          "data": {
            "text/plain": [
              "<matplotlib.legend.Legend at 0x21477b3b160>"
            ]
          },
          "execution_count": 54,
          "metadata": {},
          "output_type": "execute_result"
        },
        {
          "data": {
            "image/png": "[encoded data removed]",
            "text/plain": [
              "<Figure size 432x288 with 1 Axes>"
            ]
          },
          "metadata": {
            "needs_background": "light"
          },
          "output_type": "display_data"
        }
      ],
      "source": [
        "import matplotlib.pyplot as plot\n",
        "plot.subplot(2,1,2)\n",
        "plot.plot(history.history['loss'])\n",
        "plot.plot(history.history['val_loss'])\n",
        "plot.title('model loss')\n",
        "plot.ylabel('loss')\n",
        "plot.xlabel('epoch')\n",
        "plot.legend(['train', 'test'], loc='upper right')"
      ]
    }
  ],
  "metadata": {
    "accelerator": "GPU",
    "colab": {
      "collapsed_sections": [],
      "name": "keypoint_classification_EN.ipynb",
      "provenance": [],
      "toc_visible": true
    },
    "kernelspec": {
      "display_name": "Python 3.9.4 64-bit",
      "language": "python",
      "name": "python3"
    },
    "language_info": {
      "codemirror_mode": {
        "name": "ipython",
        "version": 3
      },
      "file_extension": ".py",
      "mimetype": "text/x-python",
      "name": "python",
      "nbconvert_exporter": "python",
      "pygments_lexer": "ipython3",
      "version": "3.9.4"
    },
    "vscode": {
      "interpreter": {
        "hash": "82ed002fa2d4956f5c6aec99bcefe0f73a9f79882f3c9e2319b14958a5896ac5"
      }
    }
  },
  "nbformat": 4,
  "nbformat_minor": 0
}
